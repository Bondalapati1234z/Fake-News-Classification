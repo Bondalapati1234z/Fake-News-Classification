{
  "metadata": {
    "kernelspec": {
      "language": "python",
      "display_name": "Python 3",
      "name": "python3"
    },
    "language_info": {
      "name": "python",
      "version": "3.6.6",
      "mimetype": "text/x-python",
      "codemirror_mode": {
        "name": "ipython",
        "version": 3
      },
      "pygments_lexer": "ipython3",
      "nbconvert_exporter": "python",
      "file_extension": ".py"
    },
    "colab": {
      "name": "projectfinal.ipynb",
      "provenance": []
    }
  },
  "nbformat_minor": 0,
  "nbformat": 4,
  "cells": [
    {
      "cell_type": "markdown",
      "source": [
        "Import Required Libraries"
      ],
      "metadata": {
        "id": "cQlFP5VPiHJM"
      }
    },
    {
      "cell_type": "code",
      "source": [
        "import pandas as pd\n",
        "import numpy as np\n",
        "import warnings\n",
        "warnings.filterwarnings('ignore')\n",
        "import string\n",
        "import re\n",
        "import nltk\n",
        "nltk.download('stopwords')\n",
        "stopwords = nltk.corpus.stopwords.words('english')\n",
        "import sys, os, re, csv, codecs, numpy as np, pandas as pd\n",
        "import matplotlib.pyplot as plt\n",
        "%matplotlib inline\n",
        "from keras.preprocessing.text import Tokenizer\n",
        "from keras.preprocessing.sequence import pad_sequences\n",
        "from keras.layers import Dense, Input, LSTM, Embedding, Dropout, Activation\n",
        "from keras.layers import Bidirectional, GlobalMaxPool1D,Bidirectional\n",
        "from keras.models import Model\n",
        "from keras import initializers, regularizers, constraints, optimizers, layers\n",
        "import gensim.models.keyedvectors as word2vec\n",
        "import gc\n",
        "from nltk.tokenize import sent_tokenize\n",
        "from keras.optimizers import SGD, Adam\n",
        "import itertools\n",
        "from sklearn.feature_extraction.text import CountVectorizer, TfidfVectorizer, HashingVectorizer\n",
        "from sklearn.model_selection import train_test_split\n",
        "from sklearn.linear_model import PassiveAggressiveClassifier, SGDClassifier\n",
        "from sklearn.svm import LinearSVC\n",
        "from sklearn.naive_bayes import MultinomialNB\n",
        "from sklearn import metrics"
      ],
      "metadata": {
        "_uuid": "8f2839f25d086af736a60e9eeb907d3b93b6e0e5",
        "_cell_guid": "b1076dfc-b9ad-4769-8c92-a6c4dae69d19",
        "id": "YHGvODvjiHJN",
        "outputId": "e35722ab-3436-456a-ce6b-a4ef0a9ad877",
        "execution": {
          "iopub.status.busy": "2021-06-17T16:20:45.611118Z",
          "iopub.execute_input": "2021-06-17T16:20:45.611478Z",
          "iopub.status.idle": "2021-06-17T16:21:10.239931Z",
          "shell.execute_reply.started": "2021-06-17T16:20:45.611415Z",
          "shell.execute_reply": "2021-06-17T16:21:10.238956Z"
        },
        "trusted": true
      },
      "execution_count": null,
      "outputs": [
        {
          "name": "stdout",
          "text": "[nltk_data] Error loading stopwords: <urlopen error [Errno -3]\n[nltk_data]     Temporary failure in name resolution>\n",
          "output_type": "stream"
        },
        {
          "name": "stderr",
          "text": "Using TensorFlow backend.\n",
          "output_type": "stream"
        }
      ]
    },
    {
      "cell_type": "markdown",
      "source": [
        "Data Loading & Processing"
      ],
      "metadata": {
        "id": "kIfPkDEeiHJO"
      }
    },
    {
      "cell_type": "code",
      "source": [
        "from google.colab import drive\n",
        "drive.mount('/content/sdrive')"
      ],
      "metadata": {
        "_uuid": "d629ff2d2480ee46fbb7e2d37f6b5fab8052498a",
        "_cell_guid": "79c7e3d0-c299-4dcb-8224-4455121ee9b0",
        "execution": {
          "iopub.status.busy": "2021-06-12T07:15:08.18021Z",
          "iopub.execute_input": "2021-06-12T07:15:08.180549Z",
          "iopub.status.idle": "2021-06-12T07:15:08.198727Z",
          "shell.execute_reply.started": "2021-06-12T07:15:08.18049Z",
          "shell.execute_reply": "2021-06-12T07:15:08.197578Z"
        },
        "id": "elgileP3iHJO",
        "trusted": true
      },
      "execution_count": null,
      "outputs": []
    },
    {
      "cell_type": "code",
      "source": [
        "\n",
        "#train=pd.read_csv('/content/sdrive/My Drive/lplus/train2.tsv',delimiter='\\t',encoding='utf-8', header=None)\n",
        "#test=pd.read_csv('/content/sdrive/My Drive/lplus/test2.tsv',delimiter='\\t',encoding='utf-8', header=None)\n",
        "#valid=pd.read_csv('/content/sdrive/My Drive/lplus/val2.tsv',delimiter='\\t',encoding='utf-8', header=None)\n",
        "\n",
        "\n",
        "train=pd.read_csv('../input/liarplus/liar-plus-master/LIAR-PLUS-master/dataset/train2.tsv',delimiter='\\t',encoding='utf-8', header=None)\n",
        "test=pd.read_csv('../input/liarplus/liar-plus-master/LIAR-PLUS-master/dataset/test2.tsv',delimiter='\\t',encoding='utf-8', header=None)\n",
        "valid=pd.read_csv('../input/liarplus/liar-plus-master/LIAR-PLUS-master/dataset/val2.tsv',delimiter='\\t',encoding='utf-8', header=None)\n",
        "\n",
        "train.columns = ['values','id','label','statement','subject','speaker', 'job', 'state','party','barely_true_c','false_c','half_true_c','mostly_true_c','pants_on_fire_c','venue','extracted_justification']\n",
        "test.columns = ['values','id','label','statement','subject','speaker', 'job', 'state','party','barely_true_c','false_c','half_true_c','mostly_true_c','pants_on_fire_c','venue','extracted_justification']\n",
        "valid.columns = ['values','id','label','statement','subject','speaker', 'job', 'state','party','barely_true_c','false_c','half_true_c','mostly_true_c','pants_on_fire_c','venue','extracted_justification']\n",
        "\n",
        "df = pd.concat([train, valid]) \n",
        "len(df)"
      ],
      "metadata": {
        "id": "1j--3FKwiHJP",
        "outputId": "4073f6ba-4560-4783-da82-2b755e8cc80a",
        "execution": {
          "iopub.status.busy": "2021-06-17T16:24:28.073846Z",
          "iopub.execute_input": "2021-06-17T16:24:28.074190Z",
          "iopub.status.idle": "2021-06-17T16:24:28.464631Z",
          "shell.execute_reply.started": "2021-06-17T16:24:28.074148Z",
          "shell.execute_reply": "2021-06-17T16:24:28.463775Z"
        },
        "trusted": true
      },
      "execution_count": null,
      "outputs": [
        {
          "execution_count": 2,
          "output_type": "execute_result",
          "data": {
            "text/plain": "11524"
          },
          "metadata": {}
        }
      ]
    },
    {
      "cell_type": "code",
      "source": [
        "print(train.shape)\n",
        "print(test.shape)\n",
        "print(valid.shape)"
      ],
      "metadata": {
        "id": "ZOnNNQnaSztV"
      },
      "execution_count": null,
      "outputs": []
    },
    {
      "cell_type": "code",
      "source": [
        "# function to check distribution of labels\n",
        "import seaborn as sns\n",
        "def check_dist(dataset):\n",
        "  sns.countplot(x='label', data=train, palette='hls')"
      ],
      "metadata": {
        "id": "T0sjJig6Sz6n"
      },
      "execution_count": null,
      "outputs": []
    },
    {
      "cell_type": "code",
      "source": [
        "asd = pd.DataFrame(train['label'])"
      ],
      "metadata": {
        "id": "cXdCoF9gS0Az"
      },
      "execution_count": null,
      "outputs": []
    },
    {
      "cell_type": "code",
      "source": [
        "check_dist(train)"
      ],
      "metadata": {
        "id": "Ydx8BogNS92J"
      },
      "execution_count": null,
      "outputs": []
    },
    {
      "cell_type": "code",
      "source": [
        "\n",
        "df['text'] = df['statement'] + ' ' + df['extracted_justification'] \n",
        "df.head()"
      ],
      "metadata": {
        "id": "oq9610EriHJP",
        "outputId": "6525df97-dcae-49c9-a2b8-5f742951c8f0",
        "execution": {
          "iopub.status.busy": "2021-06-17T16:24:44.402911Z",
          "iopub.execute_input": "2021-06-17T16:24:44.403244Z",
          "iopub.status.idle": "2021-06-17T16:24:44.473455Z",
          "shell.execute_reply.started": "2021-06-17T16:24:44.403187Z",
          "shell.execute_reply": "2021-06-17T16:24:44.472637Z"
        },
        "trusted": true
      },
      "execution_count": null,
      "outputs": [
        {
          "execution_count": 3,
          "output_type": "execute_result",
          "data": {
            "text/plain": "   values          id        label  \\\n0       0   2635.json        false   \n1       1  10540.json    half-true   \n2       2    324.json  mostly-true   \n3       3   1123.json        false   \n4       4   9028.json    half-true   \n\n                                           statement  \\\n0  Says the Annies List political group supports ...   \n1  When did the decline of coal start? It started...   \n2  Hillary Clinton agrees with John McCain \"by vo...   \n3  Health care reform legislation is likely to ma...   \n4  The economic turnaround started at the end of ...   \n\n                              subject         speaker                   job  \\\n0                            abortion    dwayne-bohac  State representative   \n1  energy,history,job-accomplishments  scott-surovell        State delegate   \n2                      foreign-policy    barack-obama             President   \n3                         health-care    blog-posting                   NaN   \n4                        economy,jobs   charlie-crist                   NaN   \n\n      state       party  barely_true_c  false_c  half_true_c  mostly_true_c  \\\n0     Texas  republican            0.0      1.0          0.0            0.0   \n1  Virginia    democrat            0.0      0.0          1.0            1.0   \n2  Illinois    democrat           70.0     71.0        160.0          163.0   \n3       NaN        none            7.0     19.0          3.0            5.0   \n4   Florida    democrat           15.0      9.0         20.0           19.0   \n\n   pants_on_fire_c                venue  \\\n0              0.0             a mailer   \n1              0.0      a floor speech.   \n2              9.0               Denver   \n3             44.0       a news release   \n4              2.0  an interview on CNN   \n\n                             extracted_justification  \\\n0  That's a premise that he fails to back up. Ann...   \n1  Surovell said the decline of coal \"started whe...   \n2  Obama said he would have voted against the ame...   \n3  The release may have a point that Mikulskis co...   \n4  Crist said that the economic \"turnaround start...   \n\n                                                text  \n0  Says the Annies List political group supports ...  \n1  When did the decline of coal start? It started...  \n2  Hillary Clinton agrees with John McCain \"by vo...  \n3  Health care reform legislation is likely to ma...  \n4  The economic turnaround started at the end of ...  ",
            "text/html": "<div>\n<style scoped>\n    .dataframe tbody tr th:only-of-type {\n        vertical-align: middle;\n    }\n\n    .dataframe tbody tr th {\n        vertical-align: top;\n    }\n\n    .dataframe thead th {\n        text-align: right;\n    }\n</style>\n<table border=\"1\" class=\"dataframe\">\n  <thead>\n    <tr style=\"text-align: right;\">\n      <th></th>\n      <th>values</th>\n      <th>id</th>\n      <th>label</th>\n      <th>statement</th>\n      <th>subject</th>\n      <th>speaker</th>\n      <th>job</th>\n      <th>state</th>\n      <th>party</th>\n      <th>barely_true_c</th>\n      <th>false_c</th>\n      <th>half_true_c</th>\n      <th>mostly_true_c</th>\n      <th>pants_on_fire_c</th>\n      <th>venue</th>\n      <th>extracted_justification</th>\n      <th>text</th>\n    </tr>\n  </thead>\n  <tbody>\n    <tr>\n      <th>0</th>\n      <td>0</td>\n      <td>2635.json</td>\n      <td>false</td>\n      <td>Says the Annies List political group supports ...</td>\n      <td>abortion</td>\n      <td>dwayne-bohac</td>\n      <td>State representative</td>\n      <td>Texas</td>\n      <td>republican</td>\n      <td>0.0</td>\n      <td>1.0</td>\n      <td>0.0</td>\n      <td>0.0</td>\n      <td>0.0</td>\n      <td>a mailer</td>\n      <td>That's a premise that he fails to back up. Ann...</td>\n      <td>Says the Annies List political group supports ...</td>\n    </tr>\n    <tr>\n      <th>1</th>\n      <td>1</td>\n      <td>10540.json</td>\n      <td>half-true</td>\n      <td>When did the decline of coal start? It started...</td>\n      <td>energy,history,job-accomplishments</td>\n      <td>scott-surovell</td>\n      <td>State delegate</td>\n      <td>Virginia</td>\n      <td>democrat</td>\n      <td>0.0</td>\n      <td>0.0</td>\n      <td>1.0</td>\n      <td>1.0</td>\n      <td>0.0</td>\n      <td>a floor speech.</td>\n      <td>Surovell said the decline of coal \"started whe...</td>\n      <td>When did the decline of coal start? It started...</td>\n    </tr>\n    <tr>\n      <th>2</th>\n      <td>2</td>\n      <td>324.json</td>\n      <td>mostly-true</td>\n      <td>Hillary Clinton agrees with John McCain \"by vo...</td>\n      <td>foreign-policy</td>\n      <td>barack-obama</td>\n      <td>President</td>\n      <td>Illinois</td>\n      <td>democrat</td>\n      <td>70.0</td>\n      <td>71.0</td>\n      <td>160.0</td>\n      <td>163.0</td>\n      <td>9.0</td>\n      <td>Denver</td>\n      <td>Obama said he would have voted against the ame...</td>\n      <td>Hillary Clinton agrees with John McCain \"by vo...</td>\n    </tr>\n    <tr>\n      <th>3</th>\n      <td>3</td>\n      <td>1123.json</td>\n      <td>false</td>\n      <td>Health care reform legislation is likely to ma...</td>\n      <td>health-care</td>\n      <td>blog-posting</td>\n      <td>NaN</td>\n      <td>NaN</td>\n      <td>none</td>\n      <td>7.0</td>\n      <td>19.0</td>\n      <td>3.0</td>\n      <td>5.0</td>\n      <td>44.0</td>\n      <td>a news release</td>\n      <td>The release may have a point that Mikulskis co...</td>\n      <td>Health care reform legislation is likely to ma...</td>\n    </tr>\n    <tr>\n      <th>4</th>\n      <td>4</td>\n      <td>9028.json</td>\n      <td>half-true</td>\n      <td>The economic turnaround started at the end of ...</td>\n      <td>economy,jobs</td>\n      <td>charlie-crist</td>\n      <td>NaN</td>\n      <td>Florida</td>\n      <td>democrat</td>\n      <td>15.0</td>\n      <td>9.0</td>\n      <td>20.0</td>\n      <td>19.0</td>\n      <td>2.0</td>\n      <td>an interview on CNN</td>\n      <td>Crist said that the economic \"turnaround start...</td>\n      <td>The economic turnaround started at the end of ...</td>\n    </tr>\n  </tbody>\n</table>\n</div>"
          },
          "metadata": {}
        }
      ]
    },
    {
      "cell_type": "code",
      "source": [
        "\n",
        "test['text'] = test['statement'] + ' ' + test['extracted_justification'] \n",
        "test1 = test\n",
        "test.head() "
      ],
      "metadata": {
        "id": "bAZBdkKziHJP",
        "outputId": "ba6ad5db-df8d-4f45-aad5-5846370496c7",
        "execution": {
          "iopub.status.busy": "2021-06-17T16:24:51.502049Z",
          "iopub.execute_input": "2021-06-17T16:24:51.502402Z",
          "iopub.status.idle": "2021-06-17T16:24:51.531120Z",
          "shell.execute_reply.started": "2021-06-17T16:24:51.502343Z",
          "shell.execute_reply": "2021-06-17T16:24:51.529853Z"
        },
        "trusted": true
      },
      "execution_count": null,
      "outputs": [
        {
          "execution_count": 4,
          "output_type": "execute_result",
          "data": {
            "text/plain": "   values          id       label  \\\n0       0  11972.json        true   \n1       1  11685.json       false   \n2       2  11096.json       false   \n3       3   5209.json   half-true   \n4       4   9524.json  pants-fire   \n\n                                           statement  \\\n0  Building a wall on the U.S.-Mexico border will...   \n1  Wisconsin is on pace to double the number of l...   \n2  Says John McCain has done nothing to help the ...   \n3  Suzanne Bonamici supports a plan that will cut...   \n4  When asked by a reporter whether hes at the ce...   \n\n                                             subject  \\\n0                                        immigration   \n1                                               jobs   \n2                    military,veterans,voting-record   \n3  medicare,message-machine-2012,campaign-adverti...   \n4  campaign-finance,legal-issues,campaign-adverti...   \n\n                            speaker                   job      state  \\\n0                        rick-perry              Governor      Texas   \n1                 katrina-shankland  State representative  Wisconsin   \n2                      donald-trump       President-Elect   New York   \n3                     rob-cornilles            consultant     Oregon   \n4  state-democratic-party-wisconsin                   NaN  Wisconsin   \n\n        party  barely_true_c  false_c  half_true_c  mostly_true_c  \\\n0  republican             30       30           42             23   \n1    democrat              2        1            0              0   \n2  republican             63      114           51             37   \n3  republican              1        1            3              1   \n4    democrat              5        7            2              2   \n\n   pants_on_fire_c                         venue  \\\n0               18               Radio interview   \n1                0             a news conference   \n2               61  comments on ABC's This Week.   \n3                1                  a radio show   \n4                7                   a web video   \n\n                             extracted_justification  \\\n0  Meantime, engineering experts agree the wall w...   \n1  She cited layoff notices received by the state...   \n2  Trump said that McCain \"has done nothing to he...   \n3  But spending still goes up. In addition, many ...   \n4  Our rating A Democratic Party web video making...   \n\n                                                text  \n0  Building a wall on the U.S.-Mexico border will...  \n1  Wisconsin is on pace to double the number of l...  \n2  Says John McCain has done nothing to help the ...  \n3  Suzanne Bonamici supports a plan that will cut...  \n4  When asked by a reporter whether hes at the ce...  ",
            "text/html": "<div>\n<style scoped>\n    .dataframe tbody tr th:only-of-type {\n        vertical-align: middle;\n    }\n\n    .dataframe tbody tr th {\n        vertical-align: top;\n    }\n\n    .dataframe thead th {\n        text-align: right;\n    }\n</style>\n<table border=\"1\" class=\"dataframe\">\n  <thead>\n    <tr style=\"text-align: right;\">\n      <th></th>\n      <th>values</th>\n      <th>id</th>\n      <th>label</th>\n      <th>statement</th>\n      <th>subject</th>\n      <th>speaker</th>\n      <th>job</th>\n      <th>state</th>\n      <th>party</th>\n      <th>barely_true_c</th>\n      <th>false_c</th>\n      <th>half_true_c</th>\n      <th>mostly_true_c</th>\n      <th>pants_on_fire_c</th>\n      <th>venue</th>\n      <th>extracted_justification</th>\n      <th>text</th>\n    </tr>\n  </thead>\n  <tbody>\n    <tr>\n      <th>0</th>\n      <td>0</td>\n      <td>11972.json</td>\n      <td>true</td>\n      <td>Building a wall on the U.S.-Mexico border will...</td>\n      <td>immigration</td>\n      <td>rick-perry</td>\n      <td>Governor</td>\n      <td>Texas</td>\n      <td>republican</td>\n      <td>30</td>\n      <td>30</td>\n      <td>42</td>\n      <td>23</td>\n      <td>18</td>\n      <td>Radio interview</td>\n      <td>Meantime, engineering experts agree the wall w...</td>\n      <td>Building a wall on the U.S.-Mexico border will...</td>\n    </tr>\n    <tr>\n      <th>1</th>\n      <td>1</td>\n      <td>11685.json</td>\n      <td>false</td>\n      <td>Wisconsin is on pace to double the number of l...</td>\n      <td>jobs</td>\n      <td>katrina-shankland</td>\n      <td>State representative</td>\n      <td>Wisconsin</td>\n      <td>democrat</td>\n      <td>2</td>\n      <td>1</td>\n      <td>0</td>\n      <td>0</td>\n      <td>0</td>\n      <td>a news conference</td>\n      <td>She cited layoff notices received by the state...</td>\n      <td>Wisconsin is on pace to double the number of l...</td>\n    </tr>\n    <tr>\n      <th>2</th>\n      <td>2</td>\n      <td>11096.json</td>\n      <td>false</td>\n      <td>Says John McCain has done nothing to help the ...</td>\n      <td>military,veterans,voting-record</td>\n      <td>donald-trump</td>\n      <td>President-Elect</td>\n      <td>New York</td>\n      <td>republican</td>\n      <td>63</td>\n      <td>114</td>\n      <td>51</td>\n      <td>37</td>\n      <td>61</td>\n      <td>comments on ABC's This Week.</td>\n      <td>Trump said that McCain \"has done nothing to he...</td>\n      <td>Says John McCain has done nothing to help the ...</td>\n    </tr>\n    <tr>\n      <th>3</th>\n      <td>3</td>\n      <td>5209.json</td>\n      <td>half-true</td>\n      <td>Suzanne Bonamici supports a plan that will cut...</td>\n      <td>medicare,message-machine-2012,campaign-adverti...</td>\n      <td>rob-cornilles</td>\n      <td>consultant</td>\n      <td>Oregon</td>\n      <td>republican</td>\n      <td>1</td>\n      <td>1</td>\n      <td>3</td>\n      <td>1</td>\n      <td>1</td>\n      <td>a radio show</td>\n      <td>But spending still goes up. In addition, many ...</td>\n      <td>Suzanne Bonamici supports a plan that will cut...</td>\n    </tr>\n    <tr>\n      <th>4</th>\n      <td>4</td>\n      <td>9524.json</td>\n      <td>pants-fire</td>\n      <td>When asked by a reporter whether hes at the ce...</td>\n      <td>campaign-finance,legal-issues,campaign-adverti...</td>\n      <td>state-democratic-party-wisconsin</td>\n      <td>NaN</td>\n      <td>Wisconsin</td>\n      <td>democrat</td>\n      <td>5</td>\n      <td>7</td>\n      <td>2</td>\n      <td>2</td>\n      <td>7</td>\n      <td>a web video</td>\n      <td>Our rating A Democratic Party web video making...</td>\n      <td>When asked by a reporter whether hes at the ce...</td>\n    </tr>\n  </tbody>\n</table>\n</div>"
          },
          "metadata": {}
        }
      ]
    },
    {
      "cell_type": "code",
      "source": [
        "\n",
        "sample = df.text.values[0]\n",
        "print(sample)"
      ],
      "metadata": {
        "execution": {
          "iopub.status.busy": "2021-06-12T07:15:42.833321Z",
          "iopub.execute_input": "2021-06-12T07:15:42.833671Z",
          "iopub.status.idle": "2021-06-12T07:15:42.839331Z",
          "shell.execute_reply.started": "2021-06-12T07:15:42.833606Z",
          "shell.execute_reply": "2021-06-12T07:15:42.837747Z"
        },
        "id": "l5F6ZWTJiHJQ",
        "trusted": true
      },
      "execution_count": null,
      "outputs": []
    },
    {
      "cell_type": "code",
      "source": [
        "truth_ = {'false':0,'true':1,'half-true':2 ,'mostly-true':3 ,'barely-true':4 ,'pants-fire':5} # values for labels\n",
        "df['num_true'] = df['label'].apply(lambda x: truth_[x])\n",
        "df['num_false'] = df['label'].apply(lambda x: truth_[x])\n",
        "df['num_half_true'] = df['label'].apply(lambda x: truth_[x])\n",
        "df['num_mostly_true'] = df['label'].apply(lambda x: truth_[x])\n",
        "df['num_barely_true'] = df['label'].apply(lambda x: truth_[x])\n",
        "df['num_pants_fire'] = df['label'].apply(lambda x: truth_[x])\n",
        "df.head() "
      ],
      "metadata": {
        "id": "KuQ6st_oiHJQ",
        "outputId": "3067f054-a935-4ad1-ce08-3d016f7239e4",
        "execution": {
          "iopub.status.busy": "2021-06-17T16:25:02.064421Z",
          "iopub.execute_input": "2021-06-17T16:25:02.064928Z",
          "iopub.status.idle": "2021-06-17T16:25:02.155574Z",
          "shell.execute_reply.started": "2021-06-17T16:25:02.064882Z",
          "shell.execute_reply": "2021-06-17T16:25:02.154574Z"
        },
        "trusted": true
      },
      "execution_count": null,
      "outputs": [
        {
          "execution_count": 5,
          "output_type": "execute_result",
          "data": {
            "text/plain": "   values          id        label  \\\n0       0   2635.json        false   \n1       1  10540.json    half-true   \n2       2    324.json  mostly-true   \n3       3   1123.json        false   \n4       4   9028.json    half-true   \n\n                                           statement  \\\n0  Says the Annies List political group supports ...   \n1  When did the decline of coal start? It started...   \n2  Hillary Clinton agrees with John McCain \"by vo...   \n3  Health care reform legislation is likely to ma...   \n4  The economic turnaround started at the end of ...   \n\n                              subject         speaker                   job  \\\n0                            abortion    dwayne-bohac  State representative   \n1  energy,history,job-accomplishments  scott-surovell        State delegate   \n2                      foreign-policy    barack-obama             President   \n3                         health-care    blog-posting                   NaN   \n4                        economy,jobs   charlie-crist                   NaN   \n\n      state       party  barely_true_c       ...        pants_on_fire_c  \\\n0     Texas  republican            0.0       ...                    0.0   \n1  Virginia    democrat            0.0       ...                    0.0   \n2  Illinois    democrat           70.0       ...                    9.0   \n3       NaN        none            7.0       ...                   44.0   \n4   Florida    democrat           15.0       ...                    2.0   \n\n                 venue                            extracted_justification  \\\n0             a mailer  That's a premise that he fails to back up. Ann...   \n1      a floor speech.  Surovell said the decline of coal \"started whe...   \n2               Denver  Obama said he would have voted against the ame...   \n3       a news release  The release may have a point that Mikulskis co...   \n4  an interview on CNN  Crist said that the economic \"turnaround start...   \n\n                                                text num_true num_false  \\\n0  Says the Annies List political group supports ...        0         0   \n1  When did the decline of coal start? It started...        2         2   \n2  Hillary Clinton agrees with John McCain \"by vo...        3         3   \n3  Health care reform legislation is likely to ma...        0         0   \n4  The economic turnaround started at the end of ...        2         2   \n\n  num_half_true  num_mostly_true  num_barely_true  num_pants_fire  \n0             0                0                0               0  \n1             2                2                2               2  \n2             3                3                3               3  \n3             0                0                0               0  \n4             2                2                2               2  \n\n[5 rows x 23 columns]",
            "text/html": "<div>\n<style scoped>\n    .dataframe tbody tr th:only-of-type {\n        vertical-align: middle;\n    }\n\n    .dataframe tbody tr th {\n        vertical-align: top;\n    }\n\n    .dataframe thead th {\n        text-align: right;\n    }\n</style>\n<table border=\"1\" class=\"dataframe\">\n  <thead>\n    <tr style=\"text-align: right;\">\n      <th></th>\n      <th>values</th>\n      <th>id</th>\n      <th>label</th>\n      <th>statement</th>\n      <th>subject</th>\n      <th>speaker</th>\n      <th>job</th>\n      <th>state</th>\n      <th>party</th>\n      <th>barely_true_c</th>\n      <th>...</th>\n      <th>pants_on_fire_c</th>\n      <th>venue</th>\n      <th>extracted_justification</th>\n      <th>text</th>\n      <th>num_true</th>\n      <th>num_false</th>\n      <th>num_half_true</th>\n      <th>num_mostly_true</th>\n      <th>num_barely_true</th>\n      <th>num_pants_fire</th>\n    </tr>\n  </thead>\n  <tbody>\n    <tr>\n      <th>0</th>\n      <td>0</td>\n      <td>2635.json</td>\n      <td>false</td>\n      <td>Says the Annies List political group supports ...</td>\n      <td>abortion</td>\n      <td>dwayne-bohac</td>\n      <td>State representative</td>\n      <td>Texas</td>\n      <td>republican</td>\n      <td>0.0</td>\n      <td>...</td>\n      <td>0.0</td>\n      <td>a mailer</td>\n      <td>That's a premise that he fails to back up. Ann...</td>\n      <td>Says the Annies List political group supports ...</td>\n      <td>0</td>\n      <td>0</td>\n      <td>0</td>\n      <td>0</td>\n      <td>0</td>\n      <td>0</td>\n    </tr>\n    <tr>\n      <th>1</th>\n      <td>1</td>\n      <td>10540.json</td>\n      <td>half-true</td>\n      <td>When did the decline of coal start? It started...</td>\n      <td>energy,history,job-accomplishments</td>\n      <td>scott-surovell</td>\n      <td>State delegate</td>\n      <td>Virginia</td>\n      <td>democrat</td>\n      <td>0.0</td>\n      <td>...</td>\n      <td>0.0</td>\n      <td>a floor speech.</td>\n      <td>Surovell said the decline of coal \"started whe...</td>\n      <td>When did the decline of coal start? It started...</td>\n      <td>2</td>\n      <td>2</td>\n      <td>2</td>\n      <td>2</td>\n      <td>2</td>\n      <td>2</td>\n    </tr>\n    <tr>\n      <th>2</th>\n      <td>2</td>\n      <td>324.json</td>\n      <td>mostly-true</td>\n      <td>Hillary Clinton agrees with John McCain \"by vo...</td>\n      <td>foreign-policy</td>\n      <td>barack-obama</td>\n      <td>President</td>\n      <td>Illinois</td>\n      <td>democrat</td>\n      <td>70.0</td>\n      <td>...</td>\n      <td>9.0</td>\n      <td>Denver</td>\n      <td>Obama said he would have voted against the ame...</td>\n      <td>Hillary Clinton agrees with John McCain \"by vo...</td>\n      <td>3</td>\n      <td>3</td>\n      <td>3</td>\n      <td>3</td>\n      <td>3</td>\n      <td>3</td>\n    </tr>\n    <tr>\n      <th>3</th>\n      <td>3</td>\n      <td>1123.json</td>\n      <td>false</td>\n      <td>Health care reform legislation is likely to ma...</td>\n      <td>health-care</td>\n      <td>blog-posting</td>\n      <td>NaN</td>\n      <td>NaN</td>\n      <td>none</td>\n      <td>7.0</td>\n      <td>...</td>\n      <td>44.0</td>\n      <td>a news release</td>\n      <td>The release may have a point that Mikulskis co...</td>\n      <td>Health care reform legislation is likely to ma...</td>\n      <td>0</td>\n      <td>0</td>\n      <td>0</td>\n      <td>0</td>\n      <td>0</td>\n      <td>0</td>\n    </tr>\n    <tr>\n      <th>4</th>\n      <td>4</td>\n      <td>9028.json</td>\n      <td>half-true</td>\n      <td>The economic turnaround started at the end of ...</td>\n      <td>economy,jobs</td>\n      <td>charlie-crist</td>\n      <td>NaN</td>\n      <td>Florida</td>\n      <td>democrat</td>\n      <td>15.0</td>\n      <td>...</td>\n      <td>2.0</td>\n      <td>an interview on CNN</td>\n      <td>Crist said that the economic \"turnaround start...</td>\n      <td>The economic turnaround started at the end of ...</td>\n      <td>2</td>\n      <td>2</td>\n      <td>2</td>\n      <td>2</td>\n      <td>2</td>\n      <td>2</td>\n    </tr>\n  </tbody>\n</table>\n<p>5 rows × 23 columns</p>\n</div>"
          },
          "metadata": {}
        }
      ]
    },
    {
      "cell_type": "code",
      "source": [
        "test['num_true'] = test['label'].apply(lambda x: truth_[x])\n",
        "test['num_false'] = test['label'].apply(lambda x: truth_[x])\n",
        "test['num_half_true'] = test['label'].apply(lambda x: truth_[x])\n",
        "test['num_mostly_true'] = test['label'].apply(lambda x: truth_[x])\n",
        "test['num_barely_true'] = test['label'].apply(lambda x: truth_[x])\n",
        "test['num_pants_fire'] = test['label'].apply(lambda x: truth_[x])\n",
        "test.head()"
      ],
      "metadata": {
        "id": "9DYd75UeiHJR",
        "outputId": "0783534f-d966-4450-dd5c-a7f8ac1d6a72",
        "execution": {
          "iopub.status.busy": "2021-06-17T16:25:10.734471Z",
          "iopub.execute_input": "2021-06-17T16:25:10.734968Z",
          "iopub.status.idle": "2021-06-17T16:25:10.780169Z",
          "shell.execute_reply.started": "2021-06-17T16:25:10.734896Z",
          "shell.execute_reply": "2021-06-17T16:25:10.779218Z"
        },
        "trusted": true
      },
      "execution_count": null,
      "outputs": [
        {
          "execution_count": 6,
          "output_type": "execute_result",
          "data": {
            "text/plain": "   values          id       label  \\\n0       0  11972.json        true   \n1       1  11685.json       false   \n2       2  11096.json       false   \n3       3   5209.json   half-true   \n4       4   9524.json  pants-fire   \n\n                                           statement  \\\n0  Building a wall on the U.S.-Mexico border will...   \n1  Wisconsin is on pace to double the number of l...   \n2  Says John McCain has done nothing to help the ...   \n3  Suzanne Bonamici supports a plan that will cut...   \n4  When asked by a reporter whether hes at the ce...   \n\n                                             subject  \\\n0                                        immigration   \n1                                               jobs   \n2                    military,veterans,voting-record   \n3  medicare,message-machine-2012,campaign-adverti...   \n4  campaign-finance,legal-issues,campaign-adverti...   \n\n                            speaker                   job      state  \\\n0                        rick-perry              Governor      Texas   \n1                 katrina-shankland  State representative  Wisconsin   \n2                      donald-trump       President-Elect   New York   \n3                     rob-cornilles            consultant     Oregon   \n4  state-democratic-party-wisconsin                   NaN  Wisconsin   \n\n        party  barely_true_c       ...        pants_on_fire_c  \\\n0  republican             30       ...                     18   \n1    democrat              2       ...                      0   \n2  republican             63       ...                     61   \n3  republican              1       ...                      1   \n4    democrat              5       ...                      7   \n\n                          venue  \\\n0               Radio interview   \n1             a news conference   \n2  comments on ABC's This Week.   \n3                  a radio show   \n4                   a web video   \n\n                             extracted_justification  \\\n0  Meantime, engineering experts agree the wall w...   \n1  She cited layoff notices received by the state...   \n2  Trump said that McCain \"has done nothing to he...   \n3  But spending still goes up. In addition, many ...   \n4  Our rating A Democratic Party web video making...   \n\n                                                text num_true num_false  \\\n0  Building a wall on the U.S.-Mexico border will...        1         1   \n1  Wisconsin is on pace to double the number of l...        0         0   \n2  Says John McCain has done nothing to help the ...        0         0   \n3  Suzanne Bonamici supports a plan that will cut...        2         2   \n4  When asked by a reporter whether hes at the ce...        5         5   \n\n  num_half_true  num_mostly_true  num_barely_true  num_pants_fire  \n0             1                1                1               1  \n1             0                0                0               0  \n2             0                0                0               0  \n3             2                2                2               2  \n4             5                5                5               5  \n\n[5 rows x 23 columns]",
            "text/html": "<div>\n<style scoped>\n    .dataframe tbody tr th:only-of-type {\n        vertical-align: middle;\n    }\n\n    .dataframe tbody tr th {\n        vertical-align: top;\n    }\n\n    .dataframe thead th {\n        text-align: right;\n    }\n</style>\n<table border=\"1\" class=\"dataframe\">\n  <thead>\n    <tr style=\"text-align: right;\">\n      <th></th>\n      <th>values</th>\n      <th>id</th>\n      <th>label</th>\n      <th>statement</th>\n      <th>subject</th>\n      <th>speaker</th>\n      <th>job</th>\n      <th>state</th>\n      <th>party</th>\n      <th>barely_true_c</th>\n      <th>...</th>\n      <th>pants_on_fire_c</th>\n      <th>venue</th>\n      <th>extracted_justification</th>\n      <th>text</th>\n      <th>num_true</th>\n      <th>num_false</th>\n      <th>num_half_true</th>\n      <th>num_mostly_true</th>\n      <th>num_barely_true</th>\n      <th>num_pants_fire</th>\n    </tr>\n  </thead>\n  <tbody>\n    <tr>\n      <th>0</th>\n      <td>0</td>\n      <td>11972.json</td>\n      <td>true</td>\n      <td>Building a wall on the U.S.-Mexico border will...</td>\n      <td>immigration</td>\n      <td>rick-perry</td>\n      <td>Governor</td>\n      <td>Texas</td>\n      <td>republican</td>\n      <td>30</td>\n      <td>...</td>\n      <td>18</td>\n      <td>Radio interview</td>\n      <td>Meantime, engineering experts agree the wall w...</td>\n      <td>Building a wall on the U.S.-Mexico border will...</td>\n      <td>1</td>\n      <td>1</td>\n      <td>1</td>\n      <td>1</td>\n      <td>1</td>\n      <td>1</td>\n    </tr>\n    <tr>\n      <th>1</th>\n      <td>1</td>\n      <td>11685.json</td>\n      <td>false</td>\n      <td>Wisconsin is on pace to double the number of l...</td>\n      <td>jobs</td>\n      <td>katrina-shankland</td>\n      <td>State representative</td>\n      <td>Wisconsin</td>\n      <td>democrat</td>\n      <td>2</td>\n      <td>...</td>\n      <td>0</td>\n      <td>a news conference</td>\n      <td>She cited layoff notices received by the state...</td>\n      <td>Wisconsin is on pace to double the number of l...</td>\n      <td>0</td>\n      <td>0</td>\n      <td>0</td>\n      <td>0</td>\n      <td>0</td>\n      <td>0</td>\n    </tr>\n    <tr>\n      <th>2</th>\n      <td>2</td>\n      <td>11096.json</td>\n      <td>false</td>\n      <td>Says John McCain has done nothing to help the ...</td>\n      <td>military,veterans,voting-record</td>\n      <td>donald-trump</td>\n      <td>President-Elect</td>\n      <td>New York</td>\n      <td>republican</td>\n      <td>63</td>\n      <td>...</td>\n      <td>61</td>\n      <td>comments on ABC's This Week.</td>\n      <td>Trump said that McCain \"has done nothing to he...</td>\n      <td>Says John McCain has done nothing to help the ...</td>\n      <td>0</td>\n      <td>0</td>\n      <td>0</td>\n      <td>0</td>\n      <td>0</td>\n      <td>0</td>\n    </tr>\n    <tr>\n      <th>3</th>\n      <td>3</td>\n      <td>5209.json</td>\n      <td>half-true</td>\n      <td>Suzanne Bonamici supports a plan that will cut...</td>\n      <td>medicare,message-machine-2012,campaign-adverti...</td>\n      <td>rob-cornilles</td>\n      <td>consultant</td>\n      <td>Oregon</td>\n      <td>republican</td>\n      <td>1</td>\n      <td>...</td>\n      <td>1</td>\n      <td>a radio show</td>\n      <td>But spending still goes up. In addition, many ...</td>\n      <td>Suzanne Bonamici supports a plan that will cut...</td>\n      <td>2</td>\n      <td>2</td>\n      <td>2</td>\n      <td>2</td>\n      <td>2</td>\n      <td>2</td>\n    </tr>\n    <tr>\n      <th>4</th>\n      <td>4</td>\n      <td>9524.json</td>\n      <td>pants-fire</td>\n      <td>When asked by a reporter whether hes at the ce...</td>\n      <td>campaign-finance,legal-issues,campaign-adverti...</td>\n      <td>state-democratic-party-wisconsin</td>\n      <td>NaN</td>\n      <td>Wisconsin</td>\n      <td>democrat</td>\n      <td>5</td>\n      <td>...</td>\n      <td>7</td>\n      <td>a web video</td>\n      <td>Our rating A Democratic Party web video making...</td>\n      <td>When asked by a reporter whether hes at the ce...</td>\n      <td>5</td>\n      <td>5</td>\n      <td>5</td>\n      <td>5</td>\n      <td>5</td>\n      <td>5</td>\n    </tr>\n  </tbody>\n</table>\n<p>5 rows × 23 columns</p>\n</div>"
          },
          "metadata": {}
        }
      ]
    },
    {
      "cell_type": "code",
      "source": [
        "\n",
        "df.text=df.text.astype(str)\n",
        "test.text=test.text.astype(str)\n",
        "\n",
        "list_classes = ['num_true', 'num_false', 'num_half_true', 'num_mostly_true','num_barely_true','num_pants_fire'] # six new columns created above\n",
        "y_t = df[list_classes].values\n",
        "y_te = test[list_classes].values\n",
        "max_features = 10\n",
        "\n",
        "list_sentences_train = df['text']\n",
        "tokenizer = Tokenizer(num_words=max_features)\n",
        "tokenizer.fit_on_texts(list(list_sentences_train))\n",
        "list_tokenized_train = tokenizer.texts_to_sequences(list_sentences_train)\n",
        "\n",
        "\n",
        "list_sentences_test = test['text']\n",
        "tokenizer = Tokenizer(num_words=max_features)\n",
        "tokenizer.fit_on_texts(list(list_sentences_test))\n",
        "list_tokenized_test = tokenizer.texts_to_sequences(list_sentences_test)\n",
        "\n",
        "maxlen = 200\n",
        "\n",
        "X_t = pad_sequences(list_tokenized_train, maxlen=maxlen)\n",
        "X_te = pad_sequences(list_tokenized_test, maxlen=maxlen)"
      ],
      "metadata": {
        "id": "AxkflJ5eiHJS",
        "execution": {
          "iopub.status.busy": "2021-06-17T16:25:16.874200Z",
          "iopub.execute_input": "2021-06-17T16:25:16.874667Z",
          "iopub.status.idle": "2021-06-17T16:25:19.190547Z",
          "shell.execute_reply.started": "2021-06-17T16:25:16.874622Z",
          "shell.execute_reply": "2021-06-17T16:25:19.189445Z"
        },
        "trusted": true
      },
      "execution_count": null,
      "outputs": []
    },
    {
      "cell_type": "code",
      "source": [
        "\n",
        "def loadEmbeddingMatrix(typeToLoad):\n",
        "        if(typeToLoad==\"word2vec\"):\n",
        "            word2vecDict = word2vec.KeyedVectors.load_word2vec_format(\"../input/googlenewsvectorsnegative300/GoogleNews-vectors-negative300.bin\", binary=True)\n",
        "            embed_size = 300\n",
        "\n",
        "        if(typeToLoad==\"glove\" or typeToLoad==\"fasttext\" ):\n",
        "            embeddings_index = dict()\n",
        "            #Transfer the embedding weights into a dictionary by iterating through every line of the file.\n",
        "            f = open(EMBEDDING_FILE)\n",
        "            for line in f:\n",
        "                #split up line into an indexed array\n",
        "                values = line.split()\n",
        "                #first index is word\n",
        "                word = values[0]\n",
        "                #store the rest of the values in the array as a new array\n",
        "                coefs = np.asarray(values[1:], dtype='float32')\n",
        "                embeddings_index[word] = coefs #50 dimensions\n",
        "            f.close()\n",
        "            print('Loaded %s word vectors.' % len(embeddings_index))\n",
        "        else:\n",
        "            embeddings_index = dict()\n",
        "            for word in word2vecDict.wv.vocab:\n",
        "                embeddings_index[word] = word2vecDict.word_vec(word)\n",
        "            print('Loaded %s word vectors.' % len(embeddings_index))\n",
        "            \n",
        "        gc.collect()\n",
        "        #We get the mean and standard deviation of the embedding weights so that we could maintain the \n",
        "        #same statistics for the rest of our own random generated weights. \n",
        "        all_embs = np.stack(list(embeddings_index.values()))\n",
        "        emb_mean,emb_std = all_embs.mean(), all_embs.std()\n",
        "        \n",
        "        nb_words = len(tokenizer.word_index)\n",
        "        #We are going to set the embedding size to the pretrained dimension as we are replicating it.\n",
        "        #the size will be Number of Words in Vocab X Embedding Size\n",
        "        embedding_matrix = np.random.normal(emb_mean, emb_std, (nb_words, embed_size))\n",
        "        gc.collect()\n",
        "\n",
        "        #With the newly created embedding matrix, we'll fill it up with the words that we have in both \n",
        "        #our own dictionary and loaded pretrained embedding. \n",
        "        embeddedCount = 0\n",
        "        for word, i in tokenizer.word_index.items():\n",
        "            i-=1\n",
        "            #then we see if this word is in glove's dictionary, if yes, get the corresponding weights\n",
        "            embedding_vector = embeddings_index.get(word)\n",
        "            #and store inside the embedding matrix that we will train later on.\n",
        "            if embedding_vector is not None: \n",
        "                embedding_matrix[i] = embedding_vector\n",
        "                embeddedCount+=1\n",
        "        print('total embedded:',embeddedCount,'common words')\n",
        "        \n",
        "        del(embeddings_index)\n",
        "        gc.collect()\n",
        "        \n",
        "        #finally, return the embedding matrix\n",
        "        return embedding_matrix"
      ],
      "metadata": {
        "id": "di_XwrNeiHJS",
        "execution": {
          "iopub.status.busy": "2021-06-17T16:25:45.170186Z",
          "iopub.execute_input": "2021-06-17T16:25:45.170573Z",
          "iopub.status.idle": "2021-06-17T16:25:45.186914Z",
          "shell.execute_reply.started": "2021-06-17T16:25:45.170518Z",
          "shell.execute_reply": "2021-06-17T16:25:45.185087Z"
        },
        "trusted": true
      },
      "execution_count": null,
      "outputs": []
    },
    {
      "cell_type": "code",
      "source": [
        "embedding_matrix = loadEmbeddingMatrix('word2vec')"
      ],
      "metadata": {
        "id": "eviIxBUbiHJT",
        "outputId": "12bd168f-f57b-4a6f-89dd-800319753ee2",
        "execution": {
          "iopub.status.busy": "2021-06-17T16:25:52.434244Z",
          "iopub.execute_input": "2021-06-17T16:25:52.434599Z",
          "iopub.status.idle": "2021-06-17T16:28:53.065378Z",
          "shell.execute_reply.started": "2021-06-17T16:25:52.434544Z",
          "shell.execute_reply": "2021-06-17T16:28:53.064308Z"
        },
        "trusted": true
      },
      "execution_count": null,
      "outputs": [
        {
          "name": "stdout",
          "text": "Loaded 3000000 word vectors.\ntotal embedded: 8572 common words\n",
          "output_type": "stream"
        }
      ]
    },
    {
      "cell_type": "code",
      "source": [
        "\n",
        "embedding_matrix.shape\n",
        "from keras.layers import Conv1D\n",
        "from keras.layers import MaxPooling1D"
      ],
      "metadata": {
        "id": "g1PmOVGjiHJT",
        "execution": {
          "iopub.status.busy": "2021-06-17T16:29:31.773664Z",
          "iopub.execute_input": "2021-06-17T16:29:31.774245Z",
          "iopub.status.idle": "2021-06-17T16:29:31.778255Z",
          "shell.execute_reply.started": "2021-06-17T16:29:31.774194Z",
          "shell.execute_reply": "2021-06-17T16:29:31.777368Z"
        },
        "trusted": true
      },
      "execution_count": null,
      "outputs": []
    },
    {
      "cell_type": "code",
      "source": [
        "from keras.models import Sequential\n",
        "from keras.layers.convolutional import Conv1D, MaxPooling1D\n",
        "from keras.layers.convolutional_recurrent import ConvLSTM2D\n",
        "from keras.layers.normalization import BatchNormalization\n",
        "import numpy as np\n",
        "from matplotlib import pyplot as plt\n",
        "from keras.layers import Dense, Embedding, LSTM, GRU,Bidirectional"
      ],
      "metadata": {
        "execution": {
          "iopub.status.busy": "2021-06-17T16:45:20.833453Z",
          "iopub.execute_input": "2021-06-17T16:45:20.833825Z",
          "iopub.status.idle": "2021-06-17T16:45:20.841310Z",
          "shell.execute_reply.started": "2021-06-17T16:45:20.833768Z",
          "shell.execute_reply": "2021-06-17T16:45:20.840421Z"
        },
        "trusted": true,
        "id": "g0GtB187gJYj"
      },
      "execution_count": null,
      "outputs": []
    },
    {
      "cell_type": "markdown",
      "source": [
        " Model Architecture\n",
        " Using Pretrained Embeddings"
      ],
      "metadata": {
        "id": "Gk-jlwgxiHJT"
      }
    },
    {
      "cell_type": "code",
      "source": [
        "\"\"\"inp = Input(shape=(maxlen,)) #maxlen=200 as defined earlier\n",
        "x = Embedding(len(tokenizer.word_index), embedding_matrix.shape[1],weights=[embedding_matrix],trainable=False)(inp)\n",
        "x = Conv1D(filters=32, kernel_size=5, padding='same', activation='relu')(x)\n",
        "x = MaxPooling1D(pool_size=2)(x)\n",
        "x = Bidirectional(LSTM(120, return_sequences=True,name='lstm_layer',dropout=0.2,recurrent_dropout=0.2))(x)\n",
        "x = GlobalMaxPool1D()(x)\n",
        "x = Dropout(0.2)(x)\n",
        "x = Dense(50, activation=\"relu\")(x)\n",
        "x = Dropout(0.2)(x)\n",
        "x = Dense(6, activation=\"softmax\")(x)\n",
        "model = Model(inputs=inp, outputs=x)\"\"\"\n",
        "\n",
        "inp = Input(shape=(maxlen,)) #maxlen=200 as defined earlier\n",
        "x = Embedding(len(tokenizer.word_index), embedding_matrix.shape[1],weights=[embedding_matrix],trainable=False)(inp)\n",
        "#modell.add(embedding_layer)\n",
        "modell=Dropout(0.2)(x)\n",
        "modell=Conv1D(filters=32, kernel_size=5, padding='same', activation='relu')(modell)\n",
        "modell=MaxPooling1D(pool_size=2)(modell)\n",
        "modell=Conv1D(filters=64, kernel_size=3, padding='same', activation='relu')(modell)\n",
        "modell=MaxPooling1D(pool_size=2)(modell)\n",
        "modell=Bidirectional(LSTM(128, dropout=0.2, recurrent_dropout=0.2))(modell)\n",
        "modell=BatchNormalization()(modell)\n",
        "modell=Dense(256, activation='relu')(modell)\n",
        "modell=Dense(128, activation='relu')(modell)\n",
        "modell=Dense(64, activation='relu')(modell)\n",
        "modell=Dense(6, activation='softmax')(modell)\n",
        "model = Model(inputs=inp, outputs=modell)\n",
        "#modell.compile(loss='categorical_crossentropy', optimizer='adam', metrics=['accuracy'])\n"
      ],
      "metadata": {
        "id": "8r0GlHK4iHJU",
        "execution": {
          "iopub.status.busy": "2021-06-17T16:57:00.853842Z",
          "iopub.execute_input": "2021-06-17T16:57:00.854283Z",
          "iopub.status.idle": "2021-06-17T16:57:03.182374Z",
          "shell.execute_reply.started": "2021-06-17T16:57:00.854197Z",
          "shell.execute_reply": "2021-06-17T16:57:03.181351Z"
        },
        "trusted": true
      },
      "execution_count": null,
      "outputs": []
    },
    {
      "cell_type": "code",
      "source": [
        "sgd = SGD(lr=0.001, decay=1e-6, momentum=0.9, nesterov=True) \n",
        "\n",
        "model.compile(loss='categorical_crossentropy',\n",
        "                  optimizer=sgd,\n",
        "                  metrics=['accuracy'])"
      ],
      "metadata": {
        "id": "Uyo0T6bciHJU",
        "execution": {
          "iopub.status.busy": "2021-06-17T16:57:08.461558Z",
          "iopub.execute_input": "2021-06-17T16:57:08.461901Z",
          "iopub.status.idle": "2021-06-17T16:57:08.508949Z",
          "shell.execute_reply.started": "2021-06-17T16:57:08.461842Z",
          "shell.execute_reply": "2021-06-17T16:57:08.508159Z"
        },
        "trusted": true
      },
      "execution_count": null,
      "outputs": []
    },
    {
      "cell_type": "code",
      "source": [
        "\n",
        "model.summary()"
      ],
      "metadata": {
        "id": "IQXWMdAoiHJU",
        "outputId": "bcec8cdd-0393-4357-e645-638145944398",
        "execution": {
          "iopub.status.busy": "2021-06-17T16:57:12.686145Z",
          "iopub.execute_input": "2021-06-17T16:57:12.686695Z",
          "iopub.status.idle": "2021-06-17T16:57:12.697966Z",
          "shell.execute_reply.started": "2021-06-17T16:57:12.686639Z",
          "shell.execute_reply": "2021-06-17T16:57:12.696622Z"
        },
        "trusted": true
      },
      "execution_count": null,
      "outputs": [
        {
          "name": "stdout",
          "text": "_________________________________________________________________\nLayer (type)                 Output Shape              Param #   \n=================================================================\ninput_6 (InputLayer)         (None, 200)               0         \n_________________________________________________________________\nembedding_6 (Embedding)      (None, 200, 300)          3011700   \n_________________________________________________________________\ndropout_7 (Dropout)          (None, 200, 300)          0         \n_________________________________________________________________\nconv1d_8 (Conv1D)            (None, 200, 32)           48032     \n_________________________________________________________________\nmax_pooling1d_8 (MaxPooling1 (None, 100, 32)           0         \n_________________________________________________________________\nconv1d_9 (Conv1D)            (None, 100, 64)           6208      \n_________________________________________________________________\nmax_pooling1d_9 (MaxPooling1 (None, 50, 64)            0         \n_________________________________________________________________\nbidirectional_5 (Bidirection (None, 256)               197632    \n_________________________________________________________________\nbatch_normalization_4 (Batch (None, 256)               1024      \n_________________________________________________________________\ndense_15 (Dense)             (None, 256)               65792     \n_________________________________________________________________\ndense_16 (Dense)             (None, 128)               32896     \n_________________________________________________________________\ndense_17 (Dense)             (None, 64)                8256      \n_________________________________________________________________\ndense_18 (Dense)             (None, 6)                 390       \n=================================================================\nTotal params: 3,371,930\nTrainable params: 359,718\nNon-trainable params: 3,012,212\n_________________________________________________________________\n",
          "output_type": "stream"
        }
      ]
    },
    {
      "cell_type": "code",
      "source": [
        "#print(modell.summary())\n",
        "#modell.fit(X_t, y_t, epochs=50, batch_size=64)\n",
        "\n",
        "model.save('bilstmmodel.h5')\n",
        "batch_size = 64\n",
        "epochs = 50\n",
        "histr=model.fit(X_t,y_t, batch_size=batch_size, epochs=epochs, validation_data=(X_te,y_te), shuffle=True, verbose=1)"
      ],
      "metadata": {
        "id": "9tPXcNWsiHJV",
        "execution": {
          "iopub.status.busy": "2021-06-17T16:57:42.183562Z",
          "iopub.execute_input": "2021-06-17T16:57:42.183912Z",
          "iopub.status.idle": "2021-06-17T17:33:15.524651Z",
          "shell.execute_reply.started": "2021-06-17T16:57:42.183853Z",
          "shell.execute_reply": "2021-06-17T17:33:15.523793Z"
        },
        "trusted": true,
        "outputId": "98a356d7-0b9d-496a-f6cc-da828580ac04"
      },
      "execution_count": null,
      "outputs": [
        {
          "name": "stdout",
          "text": "Train on 11524 samples, validate on 1267 samples\nEpoch 1/50\n11524/11524 [==============================] - 46s 4ms/step - loss: 23.8769 - acc: 0.1779 - val_loss: 23.5017 - val_acc: 0.7214\nEpoch 2/50\n11524/11524 [==============================] - 42s 4ms/step - loss: 23.8379 - acc: 0.1734 - val_loss: 23.4968 - val_acc: 0.4822\nEpoch 3/50\n11524/11524 [==============================] - 41s 4ms/step - loss: 23.8350 - acc: 0.1764 - val_loss: 23.4958 - val_acc: 0.4002\nEpoch 4/50\n11524/11524 [==============================] - 42s 4ms/step - loss: 23.8338 - acc: 0.1906 - val_loss: 23.4954 - val_acc: 0.3915\nEpoch 5/50\n11524/11524 [==============================] - 42s 4ms/step - loss: 23.8334 - acc: 0.1918 - val_loss: 23.4953 - val_acc: 0.3339\nEpoch 6/50\n11524/11524 [==============================] - 42s 4ms/step - loss: 23.8330 - acc: 0.1978 - val_loss: 23.4952 - val_acc: 0.2857\nEpoch 7/50\n11524/11524 [==============================] - 44s 4ms/step - loss: 23.8329 - acc: 0.2003 - val_loss: 23.4952 - val_acc: 0.2115\nEpoch 8/50\n11524/11524 [==============================] - 42s 4ms/step - loss: 23.8327 - acc: 0.2032 - val_loss: 23.4951 - val_acc: 0.1602\nEpoch 9/50\n11524/11524 [==============================] - 42s 4ms/step - loss: 23.8327 - acc: 0.1968 - val_loss: 23.4951 - val_acc: 0.1081\nEpoch 10/50\n11524/11524 [==============================] - 42s 4ms/step - loss: 23.8326 - acc: 0.1949 - val_loss: 23.4951 - val_acc: 0.0955\nEpoch 11/50\n11524/11524 [==============================] - 42s 4ms/step - loss: 23.8326 - acc: 0.2013 - val_loss: 23.4951 - val_acc: 0.0813\nEpoch 12/50\n11524/11524 [==============================] - 42s 4ms/step - loss: 23.8325 - acc: 0.1860 - val_loss: 23.4951 - val_acc: 0.0726\nEpoch 13/50\n11524/11524 [==============================] - 42s 4ms/step - loss: 23.8325 - acc: 0.1772 - val_loss: 23.4951 - val_acc: 0.0529\nEpoch 14/50\n11524/11524 [==============================] - 42s 4ms/step - loss: 23.8325 - acc: 0.1814 - val_loss: 23.4951 - val_acc: 0.0529\nEpoch 15/50\n11524/11524 [==============================] - 42s 4ms/step - loss: 23.8325 - acc: 0.1854 - val_loss: 23.4951 - val_acc: 0.0292\nEpoch 16/50\n11524/11524 [==============================] - 42s 4ms/step - loss: 23.8325 - acc: 0.1720 - val_loss: 23.4951 - val_acc: 0.0403\nEpoch 17/50\n11524/11524 [==============================] - 42s 4ms/step - loss: 23.8325 - acc: 0.1696 - val_loss: 23.4951 - val_acc: 0.0276\nEpoch 18/50\n11524/11524 [==============================] - 42s 4ms/step - loss: 23.8325 - acc: 0.1771 - val_loss: 23.4951 - val_acc: 0.0292\nEpoch 19/50\n11524/11524 [==============================] - 42s 4ms/step - loss: 23.8325 - acc: 0.1832 - val_loss: 23.4951 - val_acc: 0.0260\nEpoch 20/50\n11524/11524 [==============================] - 42s 4ms/step - loss: 23.8324 - acc: 0.1720 - val_loss: 23.4951 - val_acc: 0.0276\nEpoch 21/50\n11524/11524 [==============================] - 42s 4ms/step - loss: 23.8324 - acc: 0.1847 - val_loss: 23.4951 - val_acc: 0.0213\nEpoch 22/50\n11524/11524 [==============================] - 42s 4ms/step - loss: 23.8324 - acc: 0.1772 - val_loss: 23.4951 - val_acc: 0.0205\nEpoch 23/50\n11524/11524 [==============================] - 42s 4ms/step - loss: 23.8324 - acc: 0.1680 - val_loss: 23.4951 - val_acc: 0.0205\nEpoch 24/50\n11524/11524 [==============================] - 42s 4ms/step - loss: 23.8324 - acc: 0.1849 - val_loss: 23.4951 - val_acc: 0.0229\nEpoch 25/50\n11524/11524 [==============================] - 42s 4ms/step - loss: 23.8324 - acc: 0.1778 - val_loss: 23.4951 - val_acc: 0.0189\nEpoch 26/50\n11524/11524 [==============================] - 42s 4ms/step - loss: 23.8324 - acc: 0.1783 - val_loss: 23.4951 - val_acc: 0.0182\nEpoch 27/50\n11524/11524 [==============================] - 42s 4ms/step - loss: 23.8324 - acc: 0.1762 - val_loss: 23.4951 - val_acc: 0.0189\nEpoch 28/50\n11524/11524 [==============================] - 42s 4ms/step - loss: 23.8324 - acc: 0.1729 - val_loss: 23.4951 - val_acc: 0.0150\nEpoch 29/50\n11524/11524 [==============================] - 42s 4ms/step - loss: 23.8324 - acc: 0.1811 - val_loss: 23.4951 - val_acc: 0.0142\nEpoch 30/50\n11524/11524 [==============================] - 41s 4ms/step - loss: 23.8324 - acc: 0.1766 - val_loss: 23.4951 - val_acc: 0.0158\nEpoch 31/50\n11524/11524 [==============================] - 42s 4ms/step - loss: 23.8324 - acc: 0.1760 - val_loss: 23.4951 - val_acc: 0.0134\nEpoch 32/50\n11524/11524 [==============================] - 41s 4ms/step - loss: 23.8324 - acc: 0.1749 - val_loss: 23.4951 - val_acc: 0.0134\nEpoch 33/50\n11524/11524 [==============================] - 42s 4ms/step - loss: 23.8324 - acc: 0.1755 - val_loss: 23.4951 - val_acc: 0.0126\nEpoch 34/50\n11524/11524 [==============================] - 41s 4ms/step - loss: 23.8324 - acc: 0.1721 - val_loss: 23.4951 - val_acc: 0.0126\nEpoch 35/50\n11524/11524 [==============================] - 41s 4ms/step - loss: 23.8324 - acc: 0.1687 - val_loss: 23.4951 - val_acc: 0.0110\nEpoch 36/50\n11524/11524 [==============================] - 42s 4ms/step - loss: 23.8324 - acc: 0.1729 - val_loss: 23.4951 - val_acc: 0.0110\nEpoch 37/50\n11524/11524 [==============================] - 44s 4ms/step - loss: 23.8324 - acc: 0.1716 - val_loss: 23.4951 - val_acc: 0.0095\nEpoch 38/50\n11524/11524 [==============================] - 44s 4ms/step - loss: 23.8324 - acc: 0.1696 - val_loss: 23.4951 - val_acc: 0.0110\nEpoch 39/50\n11524/11524 [==============================] - 44s 4ms/step - loss: 23.8324 - acc: 0.1809 - val_loss: 23.4951 - val_acc: 0.0103\nEpoch 40/50\n11524/11524 [==============================] - 44s 4ms/step - loss: 23.8324 - acc: 0.1747 - val_loss: 23.4951 - val_acc: 0.0103\nEpoch 41/50\n11524/11524 [==============================] - 44s 4ms/step - loss: 23.8324 - acc: 0.1620 - val_loss: 23.4951 - val_acc: 0.0063\nEpoch 42/50\n11524/11524 [==============================] - 44s 4ms/step - loss: 23.8324 - acc: 0.1635 - val_loss: 23.4951 - val_acc: 0.0071\nEpoch 43/50\n11524/11524 [==============================] - 44s 4ms/step - loss: 23.8324 - acc: 0.1709 - val_loss: 23.4951 - val_acc: 0.0079\nEpoch 44/50\n11524/11524 [==============================] - 44s 4ms/step - loss: 23.8324 - acc: 0.1624 - val_loss: 23.4951 - val_acc: 0.0063\nEpoch 45/50\n11524/11524 [==============================] - 44s 4ms/step - loss: 23.8324 - acc: 0.1605 - val_loss: 23.4951 - val_acc: 0.0047\nEpoch 46/50\n11524/11524 [==============================] - 45s 4ms/step - loss: 23.8324 - acc: 0.1647 - val_loss: 23.4951 - val_acc: 0.0047\nEpoch 47/50\n11524/11524 [==============================] - 44s 4ms/step - loss: 23.8324 - acc: 0.1563 - val_loss: 23.4951 - val_acc: 0.0039\nEpoch 48/50\n11524/11524 [==============================] - 44s 4ms/step - loss: 23.8324 - acc: 0.1613 - val_loss: 23.4951 - val_acc: 0.0039\nEpoch 49/50\n11524/11524 [==============================] - 44s 4ms/step - loss: 23.8324 - acc: 0.1457 - val_loss: 23.4951 - val_acc: 0.0047\nEpoch 50/50\n11524/11524 [==============================] - 44s 4ms/step - loss: 23.8324 - acc: 0.1600 - val_loss: 23.4951 - val_acc: 0.0047\n",
          "output_type": "stream"
        }
      ]
    },
    {
      "cell_type": "code",
      "source": [
        "acc = histr.history['acc']\n",
        "val_acc = histr.history['val_acc']\n",
        "loss = histr.history['loss']\n",
        "val_loss = histr.history['val_loss']\n",
        "\n",
        "print(\"Loss: %.3f\" % min(loss))\n",
        "print(\"Validation Loss: %.3f\" % min(val_loss))\n",
        "print(\"Accuracy: %.3f\" % max(acc))\n",
        "print(\"Validation Accuracy: %.3f\" % max(val_acc))"
      ],
      "metadata": {
        "id": "F89OJbd3iHJV",
        "outputId": "3148c0c8-07e5-4d5d-fe17-a3902525ecc2",
        "execution": {
          "iopub.status.busy": "2021-06-17T17:34:21.774665Z",
          "iopub.execute_input": "2021-06-17T17:34:21.774979Z",
          "iopub.status.idle": "2021-06-17T17:34:21.783071Z",
          "shell.execute_reply.started": "2021-06-17T17:34:21.774938Z",
          "shell.execute_reply": "2021-06-17T17:34:21.782234Z"
        },
        "trusted": true
      },
      "execution_count": null,
      "outputs": [
        {
          "name": "stdout",
          "text": "Loss: 23.832\nValidation Loss: 23.495\nAccuracy: 0.203\nValidation Accuracy: 0.721\n",
          "output_type": "stream"
        }
      ]
    }
  ]
}